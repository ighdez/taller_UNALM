{
 "cells": [
  {
   "cell_type": "markdown",
   "metadata": {},
   "source": [
    "# Modelo de Logit Mixto (MXL): Experimentos de Elección\n",
    "\n",
    "En este notebook, estimaremos un modelo Logit Mixto (MXL) para conocer las preferencias por el Swissmetro. El modelo de Logit Mixto es una extension al modelo Logit Multinomial, en el cual algunos parametros se asumen aleatorios.\n",
    "\n",
    "Ademas de estimar parametros aleatorios, estimaremos el modelo MXL utilizando estructura de panel, dado que cada individuo respondio dos o mas situaciones de eleccion. Al considerar estructura de panel, reducimos sesgo generado por el hecho que varias situaciones de eleccion son respondidas por una misma persona."
   ]
  },
  {
   "cell_type": "markdown",
   "metadata": {},
   "source": [
    "## Parte 1: Preparacion de los datos\n",
    "\n",
    "### Importar modulos\n",
    "\n",
    "El siguiente codigo permite importar los siguientes paquetes de Python:\n",
    "\n",
    "- `Pandas`: Permite importar y manejar bases de datos\n",
    "- `Biogeme`: Estimar modelos de eleccion"
   ]
  },
  {
   "cell_type": "code",
   "execution_count": 1,
   "metadata": {},
   "outputs": [
    {
     "name": "stdout",
     "output_type": "stream",
     "text": [
      "\u001b[33mDEPRECATION: Configuring installation scheme with distutils config files is deprecated and will no longer work in the near future. If you are using a Homebrew or Linuxbrew Python, please see discussion at https://github.com/Homebrew/homebrew-core/issues/76621\u001b[0m\u001b[33m\n",
      "\u001b[0mRequirement already satisfied: biogeme in /usr/local/lib/python3.9/site-packages (3.2.8)\n",
      "Requirement already satisfied: numpy in /usr/local/lib/python3.9/site-packages (from biogeme) (1.22.4)\n",
      "Requirement already satisfied: pandas in /usr/local/lib/python3.9/site-packages (from biogeme) (1.4.2)\n",
      "Requirement already satisfied: tqdm in /usr/local/lib/python3.9/site-packages (from biogeme) (4.64.0)\n",
      "Requirement already satisfied: scipy in /usr/local/lib/python3.9/site-packages (from biogeme) (1.8.1)\n",
      "Requirement already satisfied: unidecode in /usr/local/lib/python3.9/site-packages (from biogeme) (1.3.4)\n",
      "Requirement already satisfied: cython in /usr/local/lib/python3.9/site-packages (from biogeme) (0.29.30)\n",
      "Requirement already satisfied: python-dateutil>=2.8.1 in /usr/local/lib/python3.9/site-packages (from pandas->biogeme) (2.8.2)\n",
      "Requirement already satisfied: pytz>=2020.1 in /usr/local/lib/python3.9/site-packages (from pandas->biogeme) (2022.1)\n",
      "Requirement already satisfied: six>=1.5 in /usr/local/lib/python3.9/site-packages (from python-dateutil>=2.8.1->pandas->biogeme) (1.16.0)\n",
      "\u001b[33mDEPRECATION: Configuring installation scheme with distutils config files is deprecated and will no longer work in the near future. If you are using a Homebrew or Linuxbrew Python, please see discussion at https://github.com/Homebrew/homebrew-core/issues/76621\u001b[0m\u001b[33m\n",
      "\u001b[0m\n",
      "\u001b[1m[\u001b[0m\u001b[34;49mnotice\u001b[0m\u001b[1;39;49m]\u001b[0m\u001b[39;49m A new release of pip available: \u001b[0m\u001b[31;49m22.1.2\u001b[0m\u001b[39;49m -> \u001b[0m\u001b[32;49m22.2.2\u001b[0m\n",
      "\u001b[1m[\u001b[0m\u001b[34;49mnotice\u001b[0m\u001b[1;39;49m]\u001b[0m\u001b[39;49m To update, run: \u001b[0m\u001b[32;49mpython3.9 -m pip install --upgrade pip\u001b[0m\n"
     ]
    }
   ],
   "source": [
    "# Instalar paquetes recomendados\n",
    "!pip3 install biogeme"
   ]
  },
  {
   "cell_type": "code",
   "execution_count": 12,
   "metadata": {},
   "outputs": [],
   "source": [
    "# Importar modulos\n",
    "\n",
    "import pandas as pd\n",
    "import numpy as np\n",
    "\n",
    "import biogeme.database as db\n",
    "import biogeme.biogeme as bio\n",
    "from biogeme import models\n",
    "import biogeme.messaging as msg\n",
    "from scipy.stats import norm\n",
    "from biogeme.expressions import (\n",
    "    Beta,\n",
    "    DefineVariable,\n",
    "    bioDraws,\n",
    "    PanelLikelihoodTrajectory,\n",
    "    MonteCarlo,\n",
    "    log,\n",
    ")\n",
    "\n",
    "import matplotlib.pyplot as plt"
   ]
  },
  {
   "cell_type": "markdown",
   "metadata": {},
   "source": [
    "### Abrir base de datos\n",
    "\n",
    "La base de datos `swissmetro.dat` es un archivo de texto que contiene la siguiente informacion relevante:\n",
    "\n",
    "- `ID`: Identificador de cada individuo que responde la encuesta\n",
    "- `PURPOSE`: Proposito del viaje (1 = trabajo / 3 = negocios)\n",
    "- `CHOICE`: Alternativa elegida en el experimento (0 = desconocido / 1 = tren / 2 = Swissmetro / 3 = automovil)\n",
    "\n",
    "Los atributos de las alternativas son:\n",
    "\n",
    "- `TRAIN_TT`: Tiempo de viaje del tren\n",
    "- `TRAIN_CO`: Costo de viaje del tren\n",
    "- `TRAIN_HE`: Frecuencia del tren (1 tren cada `TRAIN_HE` minutos)\n",
    "- `SM_TT`: Tiempo de viaje del Swissmetro\n",
    "- `SM_CO`: Costo de viaje del Swissmetro\n",
    "- `SM_HE`: Frecuencia del Swissmetro (1 frecuencia cada `SM_HE` minutos)\n",
    "- `CAR_TT`: Tiempo de viaje del automovil\n",
    "- `CAR_CO`: Costo de viaje del automovil\n",
    "\n",
    "Ademas, la base cuenta con las variables `TRAIN_AV`, `SM_AV` y `CAR_AV` que indican si la situacion de eleccion contiene la alternativa del tren, Swissmetro y automovil respectivamente.\n",
    "\n",
    "El siguiente codigo abre y presenta la base de datos:"
   ]
  },
  {
   "cell_type": "code",
   "execution_count": 3,
   "metadata": {},
   "outputs": [
    {
     "data": {
      "text/html": [
       "<div>\n",
       "<style scoped>\n",
       "    .dataframe tbody tr th:only-of-type {\n",
       "        vertical-align: middle;\n",
       "    }\n",
       "\n",
       "    .dataframe tbody tr th {\n",
       "        vertical-align: top;\n",
       "    }\n",
       "\n",
       "    .dataframe thead th {\n",
       "        text-align: right;\n",
       "    }\n",
       "</style>\n",
       "<table border=\"1\" class=\"dataframe\">\n",
       "  <thead>\n",
       "    <tr style=\"text-align: right;\">\n",
       "      <th></th>\n",
       "      <th>GROUP</th>\n",
       "      <th>SURVEY</th>\n",
       "      <th>SP</th>\n",
       "      <th>ID</th>\n",
       "      <th>PURPOSE</th>\n",
       "      <th>FIRST</th>\n",
       "      <th>TICKET</th>\n",
       "      <th>WHO</th>\n",
       "      <th>LUGGAGE</th>\n",
       "      <th>AGE</th>\n",
       "      <th>...</th>\n",
       "      <th>TRAIN_TT</th>\n",
       "      <th>TRAIN_CO</th>\n",
       "      <th>TRAIN_HE</th>\n",
       "      <th>SM_TT</th>\n",
       "      <th>SM_CO</th>\n",
       "      <th>SM_HE</th>\n",
       "      <th>SM_SEATS</th>\n",
       "      <th>CAR_TT</th>\n",
       "      <th>CAR_CO</th>\n",
       "      <th>CHOICE</th>\n",
       "    </tr>\n",
       "  </thead>\n",
       "  <tbody>\n",
       "    <tr>\n",
       "      <th>0</th>\n",
       "      <td>2</td>\n",
       "      <td>0</td>\n",
       "      <td>1</td>\n",
       "      <td>1</td>\n",
       "      <td>1</td>\n",
       "      <td>0</td>\n",
       "      <td>1</td>\n",
       "      <td>1</td>\n",
       "      <td>0</td>\n",
       "      <td>3</td>\n",
       "      <td>...</td>\n",
       "      <td>112</td>\n",
       "      <td>48</td>\n",
       "      <td>120</td>\n",
       "      <td>63</td>\n",
       "      <td>52</td>\n",
       "      <td>20</td>\n",
       "      <td>0</td>\n",
       "      <td>117</td>\n",
       "      <td>65</td>\n",
       "      <td>2</td>\n",
       "    </tr>\n",
       "    <tr>\n",
       "      <th>1</th>\n",
       "      <td>2</td>\n",
       "      <td>0</td>\n",
       "      <td>1</td>\n",
       "      <td>1</td>\n",
       "      <td>1</td>\n",
       "      <td>0</td>\n",
       "      <td>1</td>\n",
       "      <td>1</td>\n",
       "      <td>0</td>\n",
       "      <td>3</td>\n",
       "      <td>...</td>\n",
       "      <td>103</td>\n",
       "      <td>48</td>\n",
       "      <td>30</td>\n",
       "      <td>60</td>\n",
       "      <td>49</td>\n",
       "      <td>10</td>\n",
       "      <td>0</td>\n",
       "      <td>117</td>\n",
       "      <td>84</td>\n",
       "      <td>2</td>\n",
       "    </tr>\n",
       "    <tr>\n",
       "      <th>2</th>\n",
       "      <td>2</td>\n",
       "      <td>0</td>\n",
       "      <td>1</td>\n",
       "      <td>1</td>\n",
       "      <td>1</td>\n",
       "      <td>0</td>\n",
       "      <td>1</td>\n",
       "      <td>1</td>\n",
       "      <td>0</td>\n",
       "      <td>3</td>\n",
       "      <td>...</td>\n",
       "      <td>130</td>\n",
       "      <td>48</td>\n",
       "      <td>60</td>\n",
       "      <td>67</td>\n",
       "      <td>58</td>\n",
       "      <td>30</td>\n",
       "      <td>0</td>\n",
       "      <td>117</td>\n",
       "      <td>52</td>\n",
       "      <td>2</td>\n",
       "    </tr>\n",
       "    <tr>\n",
       "      <th>3</th>\n",
       "      <td>2</td>\n",
       "      <td>0</td>\n",
       "      <td>1</td>\n",
       "      <td>1</td>\n",
       "      <td>1</td>\n",
       "      <td>0</td>\n",
       "      <td>1</td>\n",
       "      <td>1</td>\n",
       "      <td>0</td>\n",
       "      <td>3</td>\n",
       "      <td>...</td>\n",
       "      <td>103</td>\n",
       "      <td>40</td>\n",
       "      <td>30</td>\n",
       "      <td>63</td>\n",
       "      <td>52</td>\n",
       "      <td>20</td>\n",
       "      <td>0</td>\n",
       "      <td>72</td>\n",
       "      <td>52</td>\n",
       "      <td>2</td>\n",
       "    </tr>\n",
       "    <tr>\n",
       "      <th>4</th>\n",
       "      <td>2</td>\n",
       "      <td>0</td>\n",
       "      <td>1</td>\n",
       "      <td>1</td>\n",
       "      <td>1</td>\n",
       "      <td>0</td>\n",
       "      <td>1</td>\n",
       "      <td>1</td>\n",
       "      <td>0</td>\n",
       "      <td>3</td>\n",
       "      <td>...</td>\n",
       "      <td>130</td>\n",
       "      <td>36</td>\n",
       "      <td>60</td>\n",
       "      <td>63</td>\n",
       "      <td>42</td>\n",
       "      <td>20</td>\n",
       "      <td>0</td>\n",
       "      <td>90</td>\n",
       "      <td>84</td>\n",
       "      <td>2</td>\n",
       "    </tr>\n",
       "    <tr>\n",
       "      <th>...</th>\n",
       "      <td>...</td>\n",
       "      <td>...</td>\n",
       "      <td>...</td>\n",
       "      <td>...</td>\n",
       "      <td>...</td>\n",
       "      <td>...</td>\n",
       "      <td>...</td>\n",
       "      <td>...</td>\n",
       "      <td>...</td>\n",
       "      <td>...</td>\n",
       "      <td>...</td>\n",
       "      <td>...</td>\n",
       "      <td>...</td>\n",
       "      <td>...</td>\n",
       "      <td>...</td>\n",
       "      <td>...</td>\n",
       "      <td>...</td>\n",
       "      <td>...</td>\n",
       "      <td>...</td>\n",
       "      <td>...</td>\n",
       "      <td>...</td>\n",
       "    </tr>\n",
       "    <tr>\n",
       "      <th>10723</th>\n",
       "      <td>3</td>\n",
       "      <td>1</td>\n",
       "      <td>1</td>\n",
       "      <td>1192</td>\n",
       "      <td>4</td>\n",
       "      <td>1</td>\n",
       "      <td>7</td>\n",
       "      <td>1</td>\n",
       "      <td>0</td>\n",
       "      <td>5</td>\n",
       "      <td>...</td>\n",
       "      <td>148</td>\n",
       "      <td>13</td>\n",
       "      <td>30</td>\n",
       "      <td>93</td>\n",
       "      <td>17</td>\n",
       "      <td>30</td>\n",
       "      <td>0</td>\n",
       "      <td>156</td>\n",
       "      <td>56</td>\n",
       "      <td>2</td>\n",
       "    </tr>\n",
       "    <tr>\n",
       "      <th>10724</th>\n",
       "      <td>3</td>\n",
       "      <td>1</td>\n",
       "      <td>1</td>\n",
       "      <td>1192</td>\n",
       "      <td>4</td>\n",
       "      <td>1</td>\n",
       "      <td>7</td>\n",
       "      <td>1</td>\n",
       "      <td>0</td>\n",
       "      <td>5</td>\n",
       "      <td>...</td>\n",
       "      <td>148</td>\n",
       "      <td>12</td>\n",
       "      <td>30</td>\n",
       "      <td>96</td>\n",
       "      <td>16</td>\n",
       "      <td>10</td>\n",
       "      <td>0</td>\n",
       "      <td>96</td>\n",
       "      <td>70</td>\n",
       "      <td>3</td>\n",
       "    </tr>\n",
       "    <tr>\n",
       "      <th>10725</th>\n",
       "      <td>3</td>\n",
       "      <td>1</td>\n",
       "      <td>1</td>\n",
       "      <td>1192</td>\n",
       "      <td>4</td>\n",
       "      <td>1</td>\n",
       "      <td>7</td>\n",
       "      <td>1</td>\n",
       "      <td>0</td>\n",
       "      <td>5</td>\n",
       "      <td>...</td>\n",
       "      <td>148</td>\n",
       "      <td>16</td>\n",
       "      <td>60</td>\n",
       "      <td>93</td>\n",
       "      <td>16</td>\n",
       "      <td>20</td>\n",
       "      <td>0</td>\n",
       "      <td>96</td>\n",
       "      <td>56</td>\n",
       "      <td>3</td>\n",
       "    </tr>\n",
       "    <tr>\n",
       "      <th>10726</th>\n",
       "      <td>3</td>\n",
       "      <td>1</td>\n",
       "      <td>1</td>\n",
       "      <td>1192</td>\n",
       "      <td>4</td>\n",
       "      <td>1</td>\n",
       "      <td>7</td>\n",
       "      <td>1</td>\n",
       "      <td>0</td>\n",
       "      <td>5</td>\n",
       "      <td>...</td>\n",
       "      <td>178</td>\n",
       "      <td>16</td>\n",
       "      <td>30</td>\n",
       "      <td>96</td>\n",
       "      <td>17</td>\n",
       "      <td>30</td>\n",
       "      <td>0</td>\n",
       "      <td>96</td>\n",
       "      <td>91</td>\n",
       "      <td>2</td>\n",
       "    </tr>\n",
       "    <tr>\n",
       "      <th>10727</th>\n",
       "      <td>3</td>\n",
       "      <td>1</td>\n",
       "      <td>1</td>\n",
       "      <td>1192</td>\n",
       "      <td>4</td>\n",
       "      <td>1</td>\n",
       "      <td>7</td>\n",
       "      <td>1</td>\n",
       "      <td>0</td>\n",
       "      <td>5</td>\n",
       "      <td>...</td>\n",
       "      <td>148</td>\n",
       "      <td>13</td>\n",
       "      <td>60</td>\n",
       "      <td>96</td>\n",
       "      <td>21</td>\n",
       "      <td>30</td>\n",
       "      <td>0</td>\n",
       "      <td>120</td>\n",
       "      <td>70</td>\n",
       "      <td>3</td>\n",
       "    </tr>\n",
       "  </tbody>\n",
       "</table>\n",
       "<p>10728 rows × 28 columns</p>\n",
       "</div>"
      ],
      "text/plain": [
       "       GROUP  SURVEY  SP    ID  PURPOSE  FIRST  TICKET  WHO  LUGGAGE  AGE  \\\n",
       "0          2       0   1     1        1      0       1    1        0    3   \n",
       "1          2       0   1     1        1      0       1    1        0    3   \n",
       "2          2       0   1     1        1      0       1    1        0    3   \n",
       "3          2       0   1     1        1      0       1    1        0    3   \n",
       "4          2       0   1     1        1      0       1    1        0    3   \n",
       "...      ...     ...  ..   ...      ...    ...     ...  ...      ...  ...   \n",
       "10723      3       1   1  1192        4      1       7    1        0    5   \n",
       "10724      3       1   1  1192        4      1       7    1        0    5   \n",
       "10725      3       1   1  1192        4      1       7    1        0    5   \n",
       "10726      3       1   1  1192        4      1       7    1        0    5   \n",
       "10727      3       1   1  1192        4      1       7    1        0    5   \n",
       "\n",
       "       ...  TRAIN_TT  TRAIN_CO  TRAIN_HE  SM_TT  SM_CO  SM_HE  SM_SEATS  \\\n",
       "0      ...       112        48       120     63     52     20         0   \n",
       "1      ...       103        48        30     60     49     10         0   \n",
       "2      ...       130        48        60     67     58     30         0   \n",
       "3      ...       103        40        30     63     52     20         0   \n",
       "4      ...       130        36        60     63     42     20         0   \n",
       "...    ...       ...       ...       ...    ...    ...    ...       ...   \n",
       "10723  ...       148        13        30     93     17     30         0   \n",
       "10724  ...       148        12        30     96     16     10         0   \n",
       "10725  ...       148        16        60     93     16     20         0   \n",
       "10726  ...       178        16        30     96     17     30         0   \n",
       "10727  ...       148        13        60     96     21     30         0   \n",
       "\n",
       "       CAR_TT  CAR_CO  CHOICE  \n",
       "0         117      65       2  \n",
       "1         117      84       2  \n",
       "2         117      52       2  \n",
       "3          72      52       2  \n",
       "4          90      84       2  \n",
       "...       ...     ...     ...  \n",
       "10723     156      56       2  \n",
       "10724      96      70       3  \n",
       "10725      96      56       3  \n",
       "10726      96      91       2  \n",
       "10727     120      70       3  \n",
       "\n",
       "[10728 rows x 28 columns]"
      ]
     },
     "execution_count": 3,
     "metadata": {},
     "output_type": "execute_result"
    }
   ],
   "source": [
    "df = pd.read_table('https://raw.githubusercontent.com/ighdez/taller_UNALM/main/taller_ee/swissmetro.dat')\n",
    "df"
   ]
  },
  {
   "cell_type": "markdown",
   "metadata": {},
   "source": [
    "### Inicializar la base de datos, excluir variables y definir estructura de panel\n",
    "\n",
    "El siguiente codigo inicializa la base de datos y define `ID` como variable identificadora de individuos:"
   ]
  },
  {
   "cell_type": "code",
   "execution_count": 4,
   "metadata": {},
   "outputs": [],
   "source": [
    "database = db.Database('swissmetro', df)\n",
    "globals().update(database.variables)\n",
    "database.panel(\"ID\")"
   ]
  },
  {
   "cell_type": "markdown",
   "metadata": {},
   "source": [
    "Solo utilizaremos la informacion de las personas que viajan con proposito de trabajo o negocios. Ademas, excluiremos las observaciones con elecciones desconocidas:"
   ]
  },
  {
   "cell_type": "code",
   "execution_count": 5,
   "metadata": {},
   "outputs": [],
   "source": [
    "exclude = ((PURPOSE != 1) * (PURPOSE != 3) + (CHOICE == 0)) > 0\n",
    "database.remove(exclude)"
   ]
  },
  {
   "cell_type": "markdown",
   "metadata": {},
   "source": [
    "### Definir parametros:\n",
    "\n",
    "Definiremos tres parametros de atributos:\n",
    "\n",
    "- `B_COST`: Parametro asociado al costo de viaje\n",
    "- `B_TIME`: Parametro asociado al tiempo de viaje\n",
    "- `B_HE`: Parametro asociado a la frecuencia del transporte publico\n",
    "\n",
    "Definiremos tres constantes por alternativa:\n",
    "\n",
    "- `ASC_TRAIN`: Constante para la alternativa tren.\n",
    "- `ASC_SM`: Constante para la alternativa Swissmetro. Sera la categoria base, por lo que sera fija en cero (no estimada)\n",
    "- `ASC_CAR`: Constante para alternativa automovil.\n",
    "\n",
    "Asumiremos que el parametro de tiempo de viaje es alearorio. Para ello, crearemos un parametro adicional que captura la desviacion estandar de `B_TIME`. El parametro aleatorio final sera `B_TIME_RND`, que sera construido como `ASC_SM + ASC_SM_S * bioDraws`. `bioDraws` permite generar una simulacion de numeros aleatorios para crear el parametro aleatorio final. Al definir el parametro aleatorio como `ASC_SM + ASC_SM_S * bioDraws`, se asume que `B_TIME_RND` distribuye de forma normal con media `B_TIME` y desviacion estandar `ASC_SM_S`."
   ]
  },
  {
   "cell_type": "code",
   "execution_count": 6,
   "metadata": {},
   "outputs": [],
   "source": [
    "# Parametros fijos\n",
    "ASC_CAR = Beta('ASC_CAR', 0, None, None, 0)\n",
    "ASC_TRAIN = Beta('ASC_TRAIN', 0, None, None, 0)\n",
    "ASC_SM = Beta('ASC_SM', 0, None, None, 1)\n",
    "B_COST = Beta('B_COST', 0, None, None, 0)\n",
    "B_HE = Beta('B_HE', 0, None, None, 0)\n",
    "\n",
    "# Parametros aleatorios\n",
    "B_TIME = Beta('B_TIME', 0, None, None, 0)\n",
    "B_TIME_S = Beta('B_TIME_S', 0.1, None, None, 0)\n",
    "B_TIME_RND = B_TIME + B_TIME_S * bioDraws('B_TIME_RND', 'NORMAL_ANTI')"
   ]
  },
  {
   "cell_type": "markdown",
   "metadata": {},
   "source": [
    "### Escalar variables\n",
    "\n",
    "Para facilidad de interpretacion y estimacion, se recomenda escalar variables con rango amplio. El siguiente codigo permite definir nuevas variables escaladas:"
   ]
  },
  {
   "cell_type": "code",
   "execution_count": 7,
   "metadata": {},
   "outputs": [],
   "source": [
    "TRAIN_TT_SCALED = TRAIN_TT / 100\n",
    "TRAIN_COST_SCALED = TRAIN_CO / 100\n",
    "SM_TT_SCALED = SM_TT / 100\n",
    "SM_COST_SCALED = SM_CO / 100\n",
    "CAR_TT_SCALED = CAR_TT / 100\n",
    "CAR_CO_SCALED = CAR_CO / 100"
   ]
  },
  {
   "cell_type": "markdown",
   "metadata": {},
   "source": [
    "### Crear funciones de utilidad\n",
    "\n",
    "En este caso, crearemos funciones de utilidad para cada alternativa. Cada funcion de utilidad esta definida por el tiempo y costo de viaje, mas una constante. Ademas, las funciones de utilidad para tren y Swissmetro tienen frecuencia como atributo adicional.\n",
    "\n",
    "Recordar que cada funcion de utilidad debe ir asociada a una alternativa de la variable de eleccion (`CHOICE`):"
   ]
  },
  {
   "cell_type": "code",
   "execution_count": 8,
   "metadata": {},
   "outputs": [],
   "source": [
    "# Crear funciones de utilidad\n",
    "V1 = ASC_TRAIN + B_TIME_RND * TRAIN_TT_SCALED + B_COST * TRAIN_COST_SCALED + B_HE * TRAIN_HE\n",
    "V2 = ASC_SM + B_TIME_RND * SM_TT_SCALED + B_COST * SM_COST_SCALED + B_HE * SM_HE\n",
    "V3 = ASC_CAR + B_TIME_RND * CAR_TT_SCALED + B_COST * CAR_CO_SCALED\n",
    "\n",
    "# Asociar funciones de utilidad a alternativas\n",
    "V = {1: V1, 2: V2, 3: V3}\n",
    "\n"
   ]
  },
  {
   "cell_type": "markdown",
   "metadata": {},
   "source": [
    "### Crear condiciones de disponibilidad.\n",
    "\n",
    "En esta base de datos, algunos encuestados enfrentaron menos de tres alternativas. Las variables  `TRAIN_AV`, `SM_AV` y `CAR_AV` indican si la situacion de eleccion contiene la alternativa del tren, Swissmetro y automovil respectivamente. El siguiente codigo permite asociar alternativas con las variables de disponibilidad:"
   ]
  },
  {
   "cell_type": "code",
   "execution_count": 9,
   "metadata": {},
   "outputs": [],
   "source": [
    "av = {1: TRAIN_AV, 2: SM_AV, 3: CAR_AV}"
   ]
  },
  {
   "cell_type": "markdown",
   "metadata": {},
   "source": [
    "### Inicializar y estimar el modelo Logit Mixto\n",
    "\n",
    "El modelo Logit Mixto es un modelo MNL que requiere de las funciones de utilidad, las condiciones de disponibilidad y la variable de eleccion. Luego, se considera la estructura de panel del modelo. Finalmente, se genera la rutina de simulacion y se estima el modelo Logit Mixto:"
   ]
  },
  {
   "cell_type": "code",
   "execution_count": 10,
   "metadata": {},
   "outputs": [
    {
     "name": "stdout",
     "output_type": "stream",
     "text": [
      "[20:43:43] < General >   Remove 16 unused variables from the database as only 13 are used.\n",
      "[20:43:44] < General >   *** Initial values of the parameters are obtained from the file __mxl.iter\n",
      "[20:43:44] < Warning >   Cannot read file __mxl.iter. Statement is ignored.\n",
      "[20:44:21] < General >   Log likelihood (N = 752):  -6922.143 Gradient norm:      8e+04 Hessian norm:       8e+06 \n",
      "[20:45:30] < General >   Log likelihood (N = 752):  -5358.015 Gradient norm:      2e+04 Hessian norm:       4e+06 \n",
      "[20:46:33] < General >   Log likelihood (N = 752):  -4839.573 Gradient norm:      4e+03 Hessian norm:       3e+06 \n",
      "[20:47:35] < General >   Log likelihood (N = 752):  -4663.335 Gradient norm:      5e+02 Hessian norm:       2e+06 \n",
      "[20:48:28] < General >   Log likelihood (N = 752):  -4615.236 Gradient norm:      4e+01 Hessian norm:       2e+06 \n",
      "[20:49:29] < General >   Log likelihood (N = 752):  -4606.663 Gradient norm:      3e+01 Hessian norm:       2e+06 \n",
      "[20:50:23] < General >   Log likelihood (N = 752):  -4606.204 Gradient norm:          3 Hessian norm:       2e+06 \n",
      "[20:51:17] < General >   Log likelihood (N = 752):  -4606.202 Gradient norm:       0.02 Hessian norm:       2e+06 \n",
      "[20:51:49] < General >   Log likelihood (N = 752):  -4606.202 Gradient norm:       0.02 Hessian norm:       2e+06 BHHH norm:       6e+06\n",
      "[20:51:49] < General >   Results saved in file mxl.html\n",
      "[20:51:49] < General >   Results saved in file mxl.pickle\n"
     ]
    }
   ],
   "source": [
    "obsprob = models.logit(V, av, CHOICE)\n",
    "condprobIndiv = PanelLikelihoodTrajectory(obsprob)\n",
    "logprob = log(MonteCarlo(condprobIndiv))\n",
    "logger = msg.bioMessage()\n",
    "logger.setGeneral()\n",
    "biogeme = bio.BIOGEME(database, logprob, numberOfDraws=1000)\n",
    "biogeme.modelName = 'mxl'\n",
    "results = biogeme.estimate()"
   ]
  },
  {
   "cell_type": "markdown",
   "metadata": {},
   "source": [
    "### Presentacion de resultados\n",
    "\n",
    "El siguiente codigo permite estimar resultados:"
   ]
  },
  {
   "cell_type": "code",
   "execution_count": 11,
   "metadata": {},
   "outputs": [
    {
     "data": {
      "text/html": [
       "<div>\n",
       "<style scoped>\n",
       "    .dataframe tbody tr th:only-of-type {\n",
       "        vertical-align: middle;\n",
       "    }\n",
       "\n",
       "    .dataframe tbody tr th {\n",
       "        vertical-align: top;\n",
       "    }\n",
       "\n",
       "    .dataframe thead th {\n",
       "        text-align: right;\n",
       "    }\n",
       "</style>\n",
       "<table border=\"1\" class=\"dataframe\">\n",
       "  <thead>\n",
       "    <tr style=\"text-align: right;\">\n",
       "      <th></th>\n",
       "      <th>Value</th>\n",
       "      <th>Std err</th>\n",
       "      <th>t-test</th>\n",
       "      <th>p-value</th>\n",
       "      <th>Rob. Std err</th>\n",
       "      <th>Rob. t-test</th>\n",
       "      <th>Rob. p-value</th>\n",
       "    </tr>\n",
       "  </thead>\n",
       "  <tbody>\n",
       "    <tr>\n",
       "      <th>ASC_CAR</th>\n",
       "      <td>0.598238</td>\n",
       "      <td>0.059003</td>\n",
       "      <td>10.139044</td>\n",
       "      <td>0.000000e+00</td>\n",
       "      <td>0.115680</td>\n",
       "      <td>5.171504</td>\n",
       "      <td>2.322171e-07</td>\n",
       "    </tr>\n",
       "    <tr>\n",
       "      <th>ASC_TRAIN</th>\n",
       "      <td>-0.014343</td>\n",
       "      <td>0.091312</td>\n",
       "      <td>-0.157073</td>\n",
       "      <td>8.751874e-01</td>\n",
       "      <td>0.138001</td>\n",
       "      <td>-0.103932</td>\n",
       "      <td>9.172235e-01</td>\n",
       "    </tr>\n",
       "    <tr>\n",
       "      <th>B_COST</th>\n",
       "      <td>0.033095</td>\n",
       "      <td>0.003741</td>\n",
       "      <td>8.845602</td>\n",
       "      <td>0.000000e+00</td>\n",
       "      <td>0.006492</td>\n",
       "      <td>5.097861</td>\n",
       "      <td>3.435128e-07</td>\n",
       "    </tr>\n",
       "    <tr>\n",
       "      <th>B_HE</th>\n",
       "      <td>-0.006340</td>\n",
       "      <td>0.001215</td>\n",
       "      <td>-5.218325</td>\n",
       "      <td>1.805481e-07</td>\n",
       "      <td>0.001140</td>\n",
       "      <td>-5.562014</td>\n",
       "      <td>2.666790e-08</td>\n",
       "    </tr>\n",
       "    <tr>\n",
       "      <th>B_TIME</th>\n",
       "      <td>-3.108142</td>\n",
       "      <td>0.155602</td>\n",
       "      <td>-19.974893</td>\n",
       "      <td>0.000000e+00</td>\n",
       "      <td>0.173576</td>\n",
       "      <td>-17.906535</td>\n",
       "      <td>0.000000e+00</td>\n",
       "    </tr>\n",
       "    <tr>\n",
       "      <th>B_TIME_S</th>\n",
       "      <td>3.655674</td>\n",
       "      <td>0.161544</td>\n",
       "      <td>22.629539</td>\n",
       "      <td>0.000000e+00</td>\n",
       "      <td>0.205313</td>\n",
       "      <td>17.805364</td>\n",
       "      <td>0.000000e+00</td>\n",
       "    </tr>\n",
       "  </tbody>\n",
       "</table>\n",
       "</div>"
      ],
      "text/plain": [
       "              Value   Std err     t-test       p-value  Rob. Std err  \\\n",
       "ASC_CAR    0.598238  0.059003  10.139044  0.000000e+00      0.115680   \n",
       "ASC_TRAIN -0.014343  0.091312  -0.157073  8.751874e-01      0.138001   \n",
       "B_COST     0.033095  0.003741   8.845602  0.000000e+00      0.006492   \n",
       "B_HE      -0.006340  0.001215  -5.218325  1.805481e-07      0.001140   \n",
       "B_TIME    -3.108142  0.155602 -19.974893  0.000000e+00      0.173576   \n",
       "B_TIME_S   3.655674  0.161544  22.629539  0.000000e+00      0.205313   \n",
       "\n",
       "           Rob. t-test  Rob. p-value  \n",
       "ASC_CAR       5.171504  2.322171e-07  \n",
       "ASC_TRAIN    -0.103932  9.172235e-01  \n",
       "B_COST        5.097861  3.435128e-07  \n",
       "B_HE         -5.562014  2.666790e-08  \n",
       "B_TIME      -17.906535  0.000000e+00  \n",
       "B_TIME_S     17.805364  0.000000e+00  "
      ]
     },
     "execution_count": 11,
     "metadata": {},
     "output_type": "execute_result"
    }
   ],
   "source": [
    "pandasResults = results.getEstimatedParameters()\n",
    "pandasResults"
   ]
  },
  {
   "cell_type": "markdown",
   "metadata": {},
   "source": [
    "### Distribucion de preferencias por tiempo\n",
    "\n",
    "Dado que el tiempo de viaje está asociado a un parametro aleatorio, podemos calcular la distribución de preferencias y ver qué proporcion de personas prefiere el atributo.\n",
    "\n",
    "El siguiente codigo permite generar la distribucion para un rango de valores"
   ]
  },
  {
   "cell_type": "code",
   "execution_count": 15,
   "metadata": {},
   "outputs": [],
   "source": [
    "# Guardar parametros\n",
    "b_time = pandasResults['Value']['B_TIME']\n",
    "b_time_s = pandasResults['Value']['B_TIME_S']\n",
    "\n",
    "# Crear rango de valores del parametro (100 valores entre -4 y 4)\n",
    "x = np.linspace(-10,4,100)\n",
    "\n",
    "# Crear valores de la distribucion normal en el rango\n",
    "b_time_rnd = norm.pdf(x,loc=b_time,scale=b_time_s)"
   ]
  },
  {
   "cell_type": "markdown",
   "metadata": {},
   "source": [
    "El siguiente codigo permite graficar la distribución:"
   ]
  },
  {
   "cell_type": "code",
   "execution_count": 16,
   "metadata": {},
   "outputs": [
    {
     "data": {
      "text/plain": [
       "<matplotlib.lines.Line2D at 0x1350aa280>"
      ]
     },
     "execution_count": 16,
     "metadata": {},
     "output_type": "execute_result"
    },
    {
     "data": {
      "image/png": "[encoded data removed]",
      "text/plain": [
       "<Figure size 432x288 with 1 Axes>"
      ]
     },
     "metadata": {
      "needs_background": "light"
     },
     "output_type": "display_data"
    }
   ],
   "source": [
    "plt.plot(x,b_time_rnd)\n",
    "plt.axvline(0)"
   ]
  },
  {
   "cell_type": "markdown",
   "metadata": {},
   "source": [
    "Finalmente, el siguiente codigo permite calcular la proporcion de personas que prefieren el atributo:"
   ]
  },
  {
   "cell_type": "code",
   "execution_count": 17,
   "metadata": {},
   "outputs": [
    {
     "name": "stdout",
     "output_type": "stream",
     "text": [
      "0.19760027602203967\n"
     ]
    }
   ],
   "source": [
    "print(1-norm.cdf(0,loc=b_time,scale=b_time_s))"
   ]
  },
  {
   "cell_type": "markdown",
   "metadata": {},
   "source": [
    "Por lo tanto, solo 20% de las personas prefiere el atributo"
   ]
  },
  {
   "cell_type": "markdown",
   "metadata": {},
   "source": [
    "## Ejercicios:\n",
    "\n",
    "1. Calcule la disposicion a pagar por mayor frecuencia y menor tiempo de viaje utilizando la formula general. Asuma que el parametro de tiempo no es aleatorio."
   ]
  }
 ],
 "metadata": {
  "kernelspec": {
   "display_name": "Python 3.9.13 64-bit",
   "language": "python",
   "name": "python3"
  },
  "language_info": {
   "codemirror_mode": {
    "name": "ipython",
    "version": 3
   },
   "file_extension": ".py",
   "mimetype": "text/x-python",
   "name": "python",
   "nbconvert_exporter": "python",
   "pygments_lexer": "ipython3",
   "version": "3.9.13"
  },
  "orig_nbformat": 4,
  "vscode": {
   "interpreter": {
    "hash": "aee8b7b246df8f9039afb4144a1f6fd8d2ca17a180786b69acc140d282b71a49"
   }
  }
 },
 "nbformat": 4,
 "nbformat_minor": 2
}
