{
 "cells": [
  {
   "cell_type": "markdown",
   "metadata": {},
   "source": [
    "# Modelo Logit para Valoración Contingente\n",
    "\n",
    "En este notebook, estimaremos el modelo Logit utilizando PandasBiogeme, un software estadistico basado en Python para la estimación de modelos de elección. PandasBiogeme también puede ser usado para estimar el modelo dicotómico simple de Valoración Contingente (Logit). PandasBiogeme será también usado para estimar modelos de elección para experimentos de elección."
   ]
  },
  {
   "cell_type": "markdown",
   "metadata": {},
   "source": [
    "## Parte 2: Modelo Logit\n",
    "\n",
    "### Abrir modulos requeridos\n",
    "\n",
    "El código detallado abajo permite abrir los modulos base para ejecutar el modelo Logit:\n",
    "\n",
    "- `Pandas`: Permite abrir y realizar operaciones con bases de datos.\n",
    "- `Biogeme`: Permite estimar modelos de elección"
   ]
  },
  {
   "cell_type": "code",
   "execution_count": null,
   "metadata": {},
   "outputs": [],
   "source": [
    "# Instalar paquetes recomendados\n",
    "!pip3 install biogeme"
   ]
  },
  {
   "cell_type": "code",
   "execution_count": 24,
   "metadata": {},
   "outputs": [],
   "source": [
    "# Abrir modulos\n",
    "import pandas as pd\n",
    "import pandas as pd\n",
    "import biogeme.database as db\n",
    "import biogeme.biogeme as bio\n",
    "from biogeme import models\n",
    "from biogeme.expressions import Beta"
   ]
  },
  {
   "cell_type": "markdown",
   "metadata": {},
   "source": [
    "### Abrir base de datos\n",
    "\n",
    "La base de datos “clean_energy.csv” contiene información sobre las respuestas de la encuesta de valoración contingente “Clean Energy and You”, conducida en Estados Unidos para conocer las preferencias de los ciudadanos por un programa llamado “Green Choice”, cuyo objetivo es el reemplazo de fuentes fósiles de energía por fuentes renovables, además de la plantación de árboles para la compensación de emisiones de CO2. La pregunta de valoración fue formulada en base a una respuesta dicotómica simple, por lo que cada individuo fue consultado si deseaba pagar un monto ofrecido por los encuestadores.\n",
    "\n",
    "El codigo descrito a continuación permite abrir la base de datos. La base de datos es guardada en un objeto llamado `df`"
   ]
  },
  {
   "cell_type": "code",
   "execution_count": 25,
   "metadata": {},
   "outputs": [
    {
     "data": {
      "text/html": [
       "<div>\n",
       "<style scoped>\n",
       "    .dataframe tbody tr th:only-of-type {\n",
       "        vertical-align: middle;\n",
       "    }\n",
       "\n",
       "    .dataframe tbody tr th {\n",
       "        vertical-align: top;\n",
       "    }\n",
       "\n",
       "    .dataframe thead th {\n",
       "        text-align: right;\n",
       "    }\n",
       "</style>\n",
       "<table border=\"1\" class=\"dataframe\">\n",
       "  <thead>\n",
       "    <tr style=\"text-align: right;\">\n",
       "      <th></th>\n",
       "      <th>ID</th>\n",
       "      <th>Bid</th>\n",
       "      <th>Choice</th>\n",
       "    </tr>\n",
       "  </thead>\n",
       "  <tbody>\n",
       "    <tr>\n",
       "      <th>0</th>\n",
       "      <td>1</td>\n",
       "      <td>100</td>\n",
       "      <td>0</td>\n",
       "    </tr>\n",
       "    <tr>\n",
       "      <th>1</th>\n",
       "      <td>2</td>\n",
       "      <td>5</td>\n",
       "      <td>0</td>\n",
       "    </tr>\n",
       "    <tr>\n",
       "      <th>2</th>\n",
       "      <td>3</td>\n",
       "      <td>150</td>\n",
       "      <td>0</td>\n",
       "    </tr>\n",
       "    <tr>\n",
       "      <th>3</th>\n",
       "      <td>4</td>\n",
       "      <td>1</td>\n",
       "      <td>1</td>\n",
       "    </tr>\n",
       "    <tr>\n",
       "      <th>4</th>\n",
       "      <td>5</td>\n",
       "      <td>5</td>\n",
       "      <td>1</td>\n",
       "    </tr>\n",
       "    <tr>\n",
       "      <th>...</th>\n",
       "      <td>...</td>\n",
       "      <td>...</td>\n",
       "      <td>...</td>\n",
       "    </tr>\n",
       "    <tr>\n",
       "      <th>199</th>\n",
       "      <td>200</td>\n",
       "      <td>20</td>\n",
       "      <td>1</td>\n",
       "    </tr>\n",
       "    <tr>\n",
       "      <th>200</th>\n",
       "      <td>201</td>\n",
       "      <td>30</td>\n",
       "      <td>1</td>\n",
       "    </tr>\n",
       "    <tr>\n",
       "      <th>201</th>\n",
       "      <td>202</td>\n",
       "      <td>1</td>\n",
       "      <td>1</td>\n",
       "    </tr>\n",
       "    <tr>\n",
       "      <th>202</th>\n",
       "      <td>203</td>\n",
       "      <td>30</td>\n",
       "      <td>1</td>\n",
       "    </tr>\n",
       "    <tr>\n",
       "      <th>203</th>\n",
       "      <td>204</td>\n",
       "      <td>20</td>\n",
       "      <td>1</td>\n",
       "    </tr>\n",
       "  </tbody>\n",
       "</table>\n",
       "<p>204 rows × 3 columns</p>\n",
       "</div>"
      ],
      "text/plain": [
       "      ID  Bid  Choice\n",
       "0      1  100       0\n",
       "1      2    5       0\n",
       "2      3  150       0\n",
       "3      4    1       1\n",
       "4      5    5       1\n",
       "..   ...  ...     ...\n",
       "199  200   20       1\n",
       "200  201   30       1\n",
       "201  202    1       1\n",
       "202  203   30       1\n",
       "203  204   20       1\n",
       "\n",
       "[204 rows x 3 columns]"
      ]
     },
     "execution_count": 25,
     "metadata": {},
     "output_type": "execute_result"
    }
   ],
   "source": [
    "df = pd.read_csv('https://raw.githubusercontent.com/ighdez/taller_UNALM/main/taller_vc/clean_energy.csv',index_col=0)\n",
    "df"
   ]
  },
  {
   "cell_type": "markdown",
   "metadata": {},
   "source": [
    "### Preparar base de datos\n",
    "\n",
    "El siguiente código prepara la base de datos para Biogeme:"
   ]
  },
  {
   "cell_type": "code",
   "execution_count": 26,
   "metadata": {},
   "outputs": [],
   "source": [
    "database = db.Database('clean_energy', df)\n",
    "globals().update(database.variables)"
   ]
  },
  {
   "cell_type": "markdown",
   "metadata": {},
   "source": [
    "### Definir parametros a estimar\n",
    "\n",
    "En el siguiente código, definimos los siguientes parametros:\n",
    "\n",
    "- `alpha`: Parametro del intercepto de la función de utilidad\n",
    "- `beta`: Parametro que acompaña a `Bid`\n",
    "\n",
    "En cada parametro se definen las siguientes opciones:\n",
    "\n",
    "- Nombre del parametro\n",
    "- Valor inicial para la estimación. Usualmente definido en 0\n",
    "- Limite inferior. No usado en este caso\n",
    "- Limite superior. No usado en este caso\n",
    "- Indicador que toma valor 1 si la variable es fija (no estimada) o 0 si es libre (se debe estimar). Por defecto se define en 0"
   ]
  },
  {
   "cell_type": "code",
   "execution_count": 27,
   "metadata": {},
   "outputs": [],
   "source": [
    "alpha = Beta('alpha',0,None,None,0)\n",
    "beta = Beta('beta',0,None,None,0)"
   ]
  },
  {
   "cell_type": "markdown",
   "metadata": {},
   "source": [
    "### Definir funciones de utilidad\n",
    "\n",
    "En esta sección, definimos las funciones de utilidad de aceptar y rechazar el monto ofrecido por el entrevistador. Si la persona elige rechazar el monto ofrecido, la utilidad es igual a $V_0 = 0$, mientras que si acepta, la utilidad es igual a:\n",
    "\n",
    "$$V_1 = \\alpha - \\beta * Bid$$\n",
    "\n",
    "El codigo para definir las funciones de utilidad es:"
   ]
  },
  {
   "cell_type": "code",
   "execution_count": 28,
   "metadata": {},
   "outputs": [],
   "source": [
    "# Crear funciones de utilidad\n",
    "V0 = 0\n",
    "V1 = alpha - beta * Bid\n",
    "\n",
    "# Asociar cada funcion de utilidad al valor que toma la variable Choice para cada caso\n",
    "V = {0: V0, 1: V1}\n",
    "\n",
    "# Paso adicional: Definir condiciones de disponibilidad (No usado en este caso, pero necesario en Biogeme, asi que solo rellenamos con 1)\n",
    "av = {0: 1, 1: 1}"
   ]
  },
  {
   "cell_type": "markdown",
   "metadata": {},
   "source": [
    "### Definir el modelo Logit y estimar\n",
    "\n",
    "En este paso, definimos el modelo Logit en base a la información de las funciones de utilidad, las condiciones de disponibilidad, y la variable de elección (`Choice`):"
   ]
  },
  {
   "cell_type": "code",
   "execution_count": 29,
   "metadata": {},
   "outputs": [],
   "source": [
    "logprob = models.loglogit(V, av, Choice)\n",
    "biogeme = bio.BIOGEME(database, logprob)\n",
    "biogeme.modelName = 'logit'\n",
    "\n",
    "results = biogeme.estimate()"
   ]
  },
  {
   "cell_type": "markdown",
   "metadata": {},
   "source": [
    "### Obtener resultados\n",
    "\n",
    "El siguiente codigo permite ver los resultados de la estimación:"
   ]
  },
  {
   "cell_type": "code",
   "execution_count": 30,
   "metadata": {},
   "outputs": [
    {
     "data": {
      "text/html": [
       "<div>\n",
       "<style scoped>\n",
       "    .dataframe tbody tr th:only-of-type {\n",
       "        vertical-align: middle;\n",
       "    }\n",
       "\n",
       "    .dataframe tbody tr th {\n",
       "        vertical-align: top;\n",
       "    }\n",
       "\n",
       "    .dataframe thead th {\n",
       "        text-align: right;\n",
       "    }\n",
       "</style>\n",
       "<table border=\"1\" class=\"dataframe\">\n",
       "  <thead>\n",
       "    <tr style=\"text-align: right;\">\n",
       "      <th></th>\n",
       "      <th>Value</th>\n",
       "      <th>Std err</th>\n",
       "      <th>t-test</th>\n",
       "      <th>p-value</th>\n",
       "      <th>Rob. Std err</th>\n",
       "      <th>Rob. t-test</th>\n",
       "      <th>Rob. p-value</th>\n",
       "    </tr>\n",
       "  </thead>\n",
       "  <tbody>\n",
       "    <tr>\n",
       "      <th>alpha</th>\n",
       "      <td>1.806446</td>\n",
       "      <td>0.249149</td>\n",
       "      <td>7.250450</td>\n",
       "      <td>4.154455e-13</td>\n",
       "      <td>0.237127</td>\n",
       "      <td>7.618038</td>\n",
       "      <td>2.575717e-14</td>\n",
       "    </tr>\n",
       "    <tr>\n",
       "      <th>beta</th>\n",
       "      <td>0.019903</td>\n",
       "      <td>0.002947</td>\n",
       "      <td>6.752777</td>\n",
       "      <td>1.450418e-11</td>\n",
       "      <td>0.003077</td>\n",
       "      <td>6.467384</td>\n",
       "      <td>9.971401e-11</td>\n",
       "    </tr>\n",
       "  </tbody>\n",
       "</table>\n",
       "</div>"
      ],
      "text/plain": [
       "          Value   Std err    t-test       p-value  Rob. Std err  Rob. t-test  \\\n",
       "alpha  1.806446  0.249149  7.250450  4.154455e-13      0.237127     7.618038   \n",
       "beta   0.019903  0.002947  6.752777  1.450418e-11      0.003077     6.467384   \n",
       "\n",
       "       Rob. p-value  \n",
       "alpha  2.575717e-14  \n",
       "beta   9.971401e-11  "
      ]
     },
     "execution_count": 30,
     "metadata": {},
     "output_type": "execute_result"
    }
   ],
   "source": [
    "pandasResults = results.getEstimatedParameters()\n",
    "pandasResults"
   ]
  },
  {
   "cell_type": "markdown",
   "metadata": {},
   "source": [
    "### Obtener disposición a pagar media (alpha/beta)\n",
    "\n",
    "El siguiente codigo permite obtener los estimadores de alpha, beta y la DAP media:"
   ]
  },
  {
   "cell_type": "code",
   "execution_count": 31,
   "metadata": {},
   "outputs": [
    {
     "data": {
      "text/plain": [
       "90.76367675698057"
      ]
     },
     "execution_count": 31,
     "metadata": {},
     "output_type": "execute_result"
    }
   ],
   "source": [
    "alpha_hat = pandasResults['Value']['alpha']\n",
    "beta_hat = pandasResults['Value']['beta']\n",
    "\n",
    "dap = alpha_hat / beta_hat\n",
    "dap"
   ]
  }
 ],
 "metadata": {
  "kernelspec": {
   "display_name": "Python 3.9.13 64-bit",
   "language": "python",
   "name": "python3"
  },
  "language_info": {
   "codemirror_mode": {
    "name": "ipython",
    "version": 3
   },
   "file_extension": ".py",
   "mimetype": "text/x-python",
   "name": "python",
   "nbconvert_exporter": "python",
   "pygments_lexer": "ipython3",
   "version": "3.9.13"
  },
  "orig_nbformat": 4,
  "vscode": {
   "interpreter": {
    "hash": "aee8b7b246df8f9039afb4144a1f6fd8d2ca17a180786b69acc140d282b71a49"
   }
  }
 },
 "nbformat": 4,
 "nbformat_minor": 2
}
