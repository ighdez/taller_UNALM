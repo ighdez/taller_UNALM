{
 "cells": [
  {
   "cell_type": "markdown",
   "metadata": {},
   "source": [
    "# Modelo Logit para Valoración Contingente\n",
    "\n",
    "En este notebook, estimaremos el modelo Logit utilizando PandasBiogeme, un software estadistico basado en Python para la estimación de modelos de elección. PandasBiogeme también puede ser usado para estimar el modelo dicotómico simple de Valoración Contingente (Logit). PandasBiogeme será también usado para estimar modelos de elección para experimentos de elección."
   ]
  },
  {
   "cell_type": "markdown",
   "metadata": {},
   "source": [
    "## Parte 1: Ejecuciones preliminares\n",
    "\n",
    "### Abrir modulos requeridos\n",
    "\n",
    "El código detallado abajo permite abrir los modulos base para ejecutar el modelo Logit:\n",
    "\n",
    "- `Pandas`: Permite abrir y realizar operaciones con bases de datos.\n",
    "- `Matplotlib`: Permite realizar graficas basadas en datos de Python"
   ]
  },
  {
   "cell_type": "code",
   "execution_count": 2,
   "metadata": {},
   "outputs": [],
   "source": [
    "# Abrir modulos\n",
    "import pandas as pd\n",
    "import matplotlib.pyplot as plt"
   ]
  },
  {
   "cell_type": "markdown",
   "metadata": {},
   "source": [
    "### Abrir base de datos\n",
    "\n",
    "La base de datos “clean_energy.xlsx” contiene información sobre las respuestas de la encuesta de valoración contingente “Clean Energy and You”, conducida en Estados Unidos para conocer las preferencias de los ciudadanos por un programa llamado “Green Choice”, cuyo objetivo es el reemplazo de fuentes fósiles de energía por fuentes renovables, además de la plantación de árboles para la compensación de emisiones de CO2. La pregunta de valoración fue formulada en base a una respuesta dicotómica simple, por lo que cada individuo fue consultado si deseaba pagar un monto ofrecido por los encuestadores.\n",
    "\n",
    "El codigo descrito a continuación permite abrir la base de datos. La base de datos es guardada en un objeto llamado `df`"
   ]
  },
  {
   "cell_type": "code",
   "execution_count": 3,
   "metadata": {},
   "outputs": [],
   "source": [
    "df = pd.read_excel('clean_energy.xlsx')"
   ]
  },
  {
   "cell_type": "markdown",
   "metadata": {},
   "source": [
    "A continuación, revisaremos parte de la base de datos ejecutando la base de datos `df`:"
   ]
  },
  {
   "cell_type": "code",
   "execution_count": 4,
   "metadata": {},
   "outputs": [
    {
     "data": {
      "text/html": [
       "<div>\n",
       "<style scoped>\n",
       "    .dataframe tbody tr th:only-of-type {\n",
       "        vertical-align: middle;\n",
       "    }\n",
       "\n",
       "    .dataframe tbody tr th {\n",
       "        vertical-align: top;\n",
       "    }\n",
       "\n",
       "    .dataframe thead th {\n",
       "        text-align: right;\n",
       "    }\n",
       "</style>\n",
       "<table border=\"1\" class=\"dataframe\">\n",
       "  <thead>\n",
       "    <tr style=\"text-align: right;\">\n",
       "      <th></th>\n",
       "      <th>ID</th>\n",
       "      <th>Bid</th>\n",
       "      <th>Choice</th>\n",
       "    </tr>\n",
       "  </thead>\n",
       "  <tbody>\n",
       "    <tr>\n",
       "      <th>0</th>\n",
       "      <td>1</td>\n",
       "      <td>100</td>\n",
       "      <td>0</td>\n",
       "    </tr>\n",
       "    <tr>\n",
       "      <th>1</th>\n",
       "      <td>2</td>\n",
       "      <td>5</td>\n",
       "      <td>0</td>\n",
       "    </tr>\n",
       "    <tr>\n",
       "      <th>2</th>\n",
       "      <td>3</td>\n",
       "      <td>150</td>\n",
       "      <td>0</td>\n",
       "    </tr>\n",
       "    <tr>\n",
       "      <th>3</th>\n",
       "      <td>4</td>\n",
       "      <td>1</td>\n",
       "      <td>1</td>\n",
       "    </tr>\n",
       "    <tr>\n",
       "      <th>4</th>\n",
       "      <td>5</td>\n",
       "      <td>5</td>\n",
       "      <td>1</td>\n",
       "    </tr>\n",
       "    <tr>\n",
       "      <th>...</th>\n",
       "      <td>...</td>\n",
       "      <td>...</td>\n",
       "      <td>...</td>\n",
       "    </tr>\n",
       "    <tr>\n",
       "      <th>199</th>\n",
       "      <td>200</td>\n",
       "      <td>20</td>\n",
       "      <td>1</td>\n",
       "    </tr>\n",
       "    <tr>\n",
       "      <th>200</th>\n",
       "      <td>201</td>\n",
       "      <td>30</td>\n",
       "      <td>1</td>\n",
       "    </tr>\n",
       "    <tr>\n",
       "      <th>201</th>\n",
       "      <td>202</td>\n",
       "      <td>1</td>\n",
       "      <td>1</td>\n",
       "    </tr>\n",
       "    <tr>\n",
       "      <th>202</th>\n",
       "      <td>203</td>\n",
       "      <td>30</td>\n",
       "      <td>1</td>\n",
       "    </tr>\n",
       "    <tr>\n",
       "      <th>203</th>\n",
       "      <td>204</td>\n",
       "      <td>20</td>\n",
       "      <td>1</td>\n",
       "    </tr>\n",
       "  </tbody>\n",
       "</table>\n",
       "<p>204 rows × 3 columns</p>\n",
       "</div>"
      ],
      "text/plain": [
       "      ID  Bid  Choice\n",
       "0      1  100       0\n",
       "1      2    5       0\n",
       "2      3  150       0\n",
       "3      4    1       1\n",
       "4      5    5       1\n",
       "..   ...  ...     ...\n",
       "199  200   20       1\n",
       "200  201   30       1\n",
       "201  202    1       1\n",
       "202  203   30       1\n",
       "203  204   20       1\n",
       "\n",
       "[204 rows x 3 columns]"
      ]
     },
     "execution_count": 4,
     "metadata": {},
     "output_type": "execute_result"
    }
   ],
   "source": [
    "df"
   ]
  },
  {
   "cell_type": "markdown",
   "metadata": {},
   "source": [
    "La base de datos consta de 204 filas (respuestas) y tres columnas (variables):\n",
    "\n",
    "-\tID: Identificador del individuo\n",
    "-\tBid: Monto ofrecido al individuo\n",
    "-\tChoice: Variable igual a 1 si la persona está dispuesta a pagar el monto ofrecido, y 0 en otro caso\n",
    "\n",
    "Una vez abierta la base de datos, es posible acceder a cada una de las variables usando la sintaxis descrita a continuación (ej. para la variable `Bid`):"
   ]
  },
  {
   "cell_type": "code",
   "execution_count": 5,
   "metadata": {},
   "outputs": [
    {
     "data": {
      "text/plain": [
       "0      100\n",
       "1        5\n",
       "2      150\n",
       "3        1\n",
       "4        5\n",
       "      ... \n",
       "199     20\n",
       "200     30\n",
       "201      1\n",
       "202     30\n",
       "203     20\n",
       "Name: Bid, Length: 204, dtype: int64"
      ]
     },
     "execution_count": 5,
     "metadata": {},
     "output_type": "execute_result"
    }
   ],
   "source": [
    "df['Bid']"
   ]
  },
  {
   "cell_type": "markdown",
   "metadata": {},
   "source": [
    "¿Cómo se accede a la variable `Choice`? Escriba la sintaxis a continuación y ejecute la linea:"
   ]
  },
  {
   "cell_type": "code",
   "execution_count": null,
   "metadata": {},
   "outputs": [],
   "source": []
  },
  {
   "cell_type": "markdown",
   "metadata": {},
   "source": [
    "### Descripción estadistica:\n",
    "\n",
    "El codigo a continuación permite realizar una descripción rápida de la base de datos `df`:"
   ]
  },
  {
   "cell_type": "code",
   "execution_count": 6,
   "metadata": {},
   "outputs": [
    {
     "data": {
      "text/html": [
       "<div>\n",
       "<style scoped>\n",
       "    .dataframe tbody tr th:only-of-type {\n",
       "        vertical-align: middle;\n",
       "    }\n",
       "\n",
       "    .dataframe tbody tr th {\n",
       "        vertical-align: top;\n",
       "    }\n",
       "\n",
       "    .dataframe thead th {\n",
       "        text-align: right;\n",
       "    }\n",
       "</style>\n",
       "<table border=\"1\" class=\"dataframe\">\n",
       "  <thead>\n",
       "    <tr style=\"text-align: right;\">\n",
       "      <th></th>\n",
       "      <th>ID</th>\n",
       "      <th>Bid</th>\n",
       "      <th>Choice</th>\n",
       "    </tr>\n",
       "  </thead>\n",
       "  <tbody>\n",
       "    <tr>\n",
       "      <th>count</th>\n",
       "      <td>204.000000</td>\n",
       "      <td>204.000000</td>\n",
       "      <td>204.000000</td>\n",
       "    </tr>\n",
       "    <tr>\n",
       "      <th>mean</th>\n",
       "      <td>102.500000</td>\n",
       "      <td>60.151961</td>\n",
       "      <td>0.632353</td>\n",
       "    </tr>\n",
       "    <tr>\n",
       "      <th>std</th>\n",
       "      <td>59.033889</td>\n",
       "      <td>66.287116</td>\n",
       "      <td>0.483351</td>\n",
       "    </tr>\n",
       "    <tr>\n",
       "      <th>min</th>\n",
       "      <td>1.000000</td>\n",
       "      <td>1.000000</td>\n",
       "      <td>0.000000</td>\n",
       "    </tr>\n",
       "    <tr>\n",
       "      <th>25%</th>\n",
       "      <td>51.750000</td>\n",
       "      <td>10.000000</td>\n",
       "      <td>0.000000</td>\n",
       "    </tr>\n",
       "    <tr>\n",
       "      <th>50%</th>\n",
       "      <td>102.500000</td>\n",
       "      <td>30.000000</td>\n",
       "      <td>1.000000</td>\n",
       "    </tr>\n",
       "    <tr>\n",
       "      <th>75%</th>\n",
       "      <td>153.250000</td>\n",
       "      <td>100.000000</td>\n",
       "      <td>1.000000</td>\n",
       "    </tr>\n",
       "    <tr>\n",
       "      <th>max</th>\n",
       "      <td>204.000000</td>\n",
       "      <td>200.000000</td>\n",
       "      <td>1.000000</td>\n",
       "    </tr>\n",
       "  </tbody>\n",
       "</table>\n",
       "</div>"
      ],
      "text/plain": [
       "               ID         Bid      Choice\n",
       "count  204.000000  204.000000  204.000000\n",
       "mean   102.500000   60.151961    0.632353\n",
       "std     59.033889   66.287116    0.483351\n",
       "min      1.000000    1.000000    0.000000\n",
       "25%     51.750000   10.000000    0.000000\n",
       "50%    102.500000   30.000000    1.000000\n",
       "75%    153.250000  100.000000    1.000000\n",
       "max    204.000000  200.000000    1.000000"
      ]
     },
     "execution_count": 6,
     "metadata": {},
     "output_type": "execute_result"
    }
   ],
   "source": [
    "df.describe()"
   ]
  },
  {
   "cell_type": "markdown",
   "metadata": {},
   "source": [
    "Además, es posible acceder a estadisticos especificos, como por ejemplo, la media de las variables usando el comando `mean()` sobre la base de datos:"
   ]
  },
  {
   "cell_type": "code",
   "execution_count": 7,
   "metadata": {},
   "outputs": [
    {
     "data": {
      "text/plain": [
       "ID        102.500000\n",
       "Bid        60.151961\n",
       "Choice      0.632353\n",
       "dtype: float64"
      ]
     },
     "execution_count": 7,
     "metadata": {},
     "output_type": "execute_result"
    }
   ],
   "source": [
    "df.mean()"
   ]
  },
  {
   "cell_type": "markdown",
   "metadata": {},
   "source": [
    "¿Cuál es la tasa media de aceptación de los montos ofrecidos?\n",
    "\n",
    "El comando para acceder a la desviación estandar es `std()`. Calcule la desviación estandar por su cuenta abajo de esta linea:"
   ]
  },
  {
   "cell_type": "code",
   "execution_count": null,
   "metadata": {},
   "outputs": [],
   "source": []
  },
  {
   "cell_type": "markdown",
   "metadata": {},
   "source": [
    "Además, es posible obtener la frecuencia de cada uno de los valores de una variable en la base de datos. Por ejemplo, para la variable `Bid`:"
   ]
  },
  {
   "cell_type": "code",
   "execution_count": 10,
   "metadata": {},
   "outputs": [
    {
     "data": {
      "text/plain": [
       "20     25\n",
       "1      24\n",
       "100    23\n",
       "5      23\n",
       "30     22\n",
       "50     22\n",
       "10     22\n",
       "150    21\n",
       "200    21\n",
       "2       1\n",
       "Name: Bid, dtype: int64"
      ]
     },
     "execution_count": 10,
     "metadata": {},
     "output_type": "execute_result"
    }
   ],
   "source": [
    "df['Bid'].value_counts()"
   ]
  },
  {
   "cell_type": "markdown",
   "metadata": {},
   "source": [
    "Repita el ejercicio con la variable `Choice`:"
   ]
  },
  {
   "cell_type": "code",
   "execution_count": null,
   "metadata": {},
   "outputs": [],
   "source": []
  },
  {
   "cell_type": "markdown",
   "metadata": {},
   "source": [
    "### Visualización de un histograma\n",
    "\n",
    "El codigo abajo permite construir un histograma de la variable `Bid`:"
   ]
  },
  {
   "cell_type": "code",
   "execution_count": 8,
   "metadata": {},
   "outputs": [
    {
     "data": {
      "text/plain": [
       "(array([95., 22., 22.,  0., 23.,  0.,  0., 21.,  0., 21.]),\n",
       " array([  1. ,  20.9,  40.8,  60.7,  80.6, 100.5, 120.4, 140.3, 160.2,\n",
       "        180.1, 200. ]),\n",
       " <BarContainer object of 10 artists>)"
      ]
     },
     "execution_count": 8,
     "metadata": {},
     "output_type": "execute_result"
    },
    {
     "data": {
      "image/png": "[encoded data removed]",
      "text/plain": [
       "<Figure size 432x288 with 1 Axes>"
      ]
     },
     "metadata": {
      "needs_background": "light"
     },
     "output_type": "display_data"
    }
   ],
   "source": [
    "plt.hist(df['Bid'])"
   ]
  },
  {
   "cell_type": "markdown",
   "metadata": {},
   "source": [
    "Es posible ajustar algunos parametros del histograma, como el numero de barras:"
   ]
  },
  {
   "cell_type": "code",
   "execution_count": 13,
   "metadata": {},
   "outputs": [
    {
     "data": {
      "text/plain": [
       "(array([25.,  0., 23.,  0., 22.,  0.,  0.,  0.,  0., 25.,  0.,  0.,  0.,\n",
       "         0., 22.,  0.,  0.,  0.,  0.,  0.,  0.,  0.,  0.,  0., 22.,  0.,\n",
       "         0.,  0.,  0.,  0.,  0.,  0.,  0.,  0.,  0.,  0.,  0.,  0.,  0.,\n",
       "         0.,  0.,  0.,  0.,  0.,  0.,  0.,  0.,  0.,  0., 23.,  0.,  0.,\n",
       "         0.,  0.,  0.,  0.,  0.,  0.,  0.,  0.,  0.,  0.,  0.,  0.,  0.,\n",
       "         0.,  0.,  0.,  0.,  0.,  0.,  0.,  0.,  0., 21.,  0.,  0.,  0.,\n",
       "         0.,  0.,  0.,  0.,  0.,  0.,  0.,  0.,  0.,  0.,  0.,  0.,  0.,\n",
       "         0.,  0.,  0.,  0.,  0.,  0.,  0.,  0., 21.]),\n",
       " array([  1.  ,   2.99,   4.98,   6.97,   8.96,  10.95,  12.94,  14.93,\n",
       "         16.92,  18.91,  20.9 ,  22.89,  24.88,  26.87,  28.86,  30.85,\n",
       "         32.84,  34.83,  36.82,  38.81,  40.8 ,  42.79,  44.78,  46.77,\n",
       "         48.76,  50.75,  52.74,  54.73,  56.72,  58.71,  60.7 ,  62.69,\n",
       "         64.68,  66.67,  68.66,  70.65,  72.64,  74.63,  76.62,  78.61,\n",
       "         80.6 ,  82.59,  84.58,  86.57,  88.56,  90.55,  92.54,  94.53,\n",
       "         96.52,  98.51, 100.5 , 102.49, 104.48, 106.47, 108.46, 110.45,\n",
       "        112.44, 114.43, 116.42, 118.41, 120.4 , 122.39, 124.38, 126.37,\n",
       "        128.36, 130.35, 132.34, 134.33, 136.32, 138.31, 140.3 , 142.29,\n",
       "        144.28, 146.27, 148.26, 150.25, 152.24, 154.23, 156.22, 158.21,\n",
       "        160.2 , 162.19, 164.18, 166.17, 168.16, 170.15, 172.14, 174.13,\n",
       "        176.12, 178.11, 180.1 , 182.09, 184.08, 186.07, 188.06, 190.05,\n",
       "        192.04, 194.03, 196.02, 198.01, 200.  ]),\n",
       " <BarContainer object of 100 artists>)"
      ]
     },
     "execution_count": 13,
     "metadata": {},
     "output_type": "execute_result"
    },
    {
     "data": {
      "image/png": "[encoded data removed]",
      "text/plain": [
       "<Figure size 432x288 with 1 Axes>"
      ]
     },
     "metadata": {
      "needs_background": "light"
     },
     "output_type": "display_data"
    }
   ],
   "source": [
    "plt.hist(df['Bid'],bins=100)"
   ]
  }
 ],
 "metadata": {
  "kernelspec": {
   "display_name": "Python 3.9.13 64-bit",
   "language": "python",
   "name": "python3"
  },
  "language_info": {
   "codemirror_mode": {
    "name": "ipython",
    "version": 3
   },
   "file_extension": ".py",
   "mimetype": "text/x-python",
   "name": "python",
   "nbconvert_exporter": "python",
   "pygments_lexer": "ipython3",
   "version": "3.9.13"
  },
  "orig_nbformat": 4,
  "vscode": {
   "interpreter": {
    "hash": "aee8b7b246df8f9039afb4144a1f6fd8d2ca17a180786b69acc140d282b71a49"
   }
  }
 },
 "nbformat": 4,
 "nbformat_minor": 2
}
